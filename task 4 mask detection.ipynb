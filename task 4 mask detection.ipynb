{
 "cells": [
  {
   "cell_type": "markdown",
   "id": "4b445bd9",
   "metadata": {},
   "source": [
    "# @GRIP : The Sparks Foundation\n"
   ]
  },
  {
   "cell_type": "markdown",
   "id": "48843818",
   "metadata": {},
   "source": [
    "# Author : Ounadi Ikram\n"
   ]
  },
  {
   "cell_type": "markdown",
   "id": "e844f884",
   "metadata": {},
   "source": [
    "## Computer Vision and Internet of objects\n"
   ]
  },
  {
   "cell_type": "markdown",
   "id": "d71b1e9d",
   "metadata": {},
   "source": [
    "## Task-4 : Detection of face mask\n"
   ]
  },
  {
   "cell_type": "code",
   "execution_count": 18,
   "id": "204997ee",
   "metadata": {},
   "outputs": [],
   "source": [
    "from tensorflow.keras.optimizers import RMSprop\n",
    "from keras.preprocessing.image import ImageDataGenerator\n",
    "import cv2\n",
    "from keras.models import Sequential\n",
    "from keras.layers import Conv2D, Input, ZeroPadding2D, BatchNormalization, Activation, MaxPooling2D, Flatten, Dense,Dropout\n",
    "from keras.models import Model, load_model\n",
    "from keras.callbacks import TensorBoard, ModelCheckpoint\n",
    "from sklearn.model_selection import train_test_split\n",
    "from sklearn.metrics import f1_score\n",
    "from sklearn.utils import shuffle\n",
    "import imutils\n",
    "import numpy as np\n",
    "import matplotlib.pyplot as plt\n"
   ]
  },
  {
   "cell_type": "code",
   "execution_count": 13,
   "id": "a030a958",
   "metadata": {},
   "outputs": [],
   "source": [
    "model = Sequential([\n",
    "    Conv2D(100, (3,3), activation='relu', input_shape=(150, 150, 3)),\n",
    "    MaxPooling2D(2,2),\n",
    "    \n",
    "    Conv2D(100, (3,3), activation='relu'),\n",
    "    MaxPooling2D(2,2),\n",
    "    \n",
    "    Flatten(),\n",
    "    Dropout(0.5),\n",
    "    Dense(50, activation='relu'),\n",
    "    Dense(2, activation='softmax')\n",
    "])\n",
    "model.compile(optimizer='adam', loss='binary_crossentropy', metrics=['acc'])"
   ]
  },
  {
   "cell_type": "code",
   "execution_count": 14,
   "id": "fc5b7981",
   "metadata": {},
   "outputs": [
    {
     "name": "stdout",
     "output_type": "stream",
     "text": [
      "Found 1314 images belonging to 2 classes.\n",
      "Found 194 images belonging to 2 classes.\n"
     ]
    }
   ],
   "source": [
    "TRAINING_DIR = \"./train\"\n",
    "train_datagen = ImageDataGenerator(rescale=1.0/255,\n",
    "                                   rotation_range=40,\n",
    "                                   width_shift_range=0.2,\n",
    "                                   height_shift_range=0.2,\n",
    "                                   shear_range=0.2,\n",
    "                                   zoom_range=0.2,\n",
    "                                   horizontal_flip=True,\n",
    "                                   fill_mode='nearest')\n",
    "train_generator = train_datagen.flow_from_directory(TRAINING_DIR, \n",
    "                                                    batch_size=10, #No. of images to be yielded from the generator per batch. \n",
    "                                                    target_size=(150, 150)#is the size of your input images, every image will be resized to this size.)\n",
    "VALIDATION_DIR = \"./test\"\n",
    "validation_datagen = ImageDataGenerator(rescale=1.0/255)\n",
    "validation_generator = validation_datagen.flow_from_directory(VALIDATION_DIR, \n",
    "                                                         batch_size=10, \n",
    "                                                         target_size=(150, 150))"
   ]
  },
  {
   "cell_type": "code",
   "execution_count": 15,
   "id": "8d17a7fe",
   "metadata": {},
   "outputs": [],
   "source": [
    "checkpoint = ModelCheckpoint('model2-{epoch:03d}.model',monitor='val_loss',verbose=0,save_best_only=True,mode='auto')"
   ]
  },
  {
   "cell_type": "code",
   "execution_count": 16,
   "id": "e3efbd6c",
   "metadata": {},
   "outputs": [
    {
     "name": "stdout",
     "output_type": "stream",
     "text": [
      "Epoch 1/10\n",
      "132/132 [==============================] - ETA: 0s - loss: 0.6544 - acc: 0.6248INFO:tensorflow:Assets written to: model2-001.model/assets\n",
      "132/132 [==============================] - 93s 692ms/step - loss: 0.6544 - acc: 0.6248 - val_loss: 0.3673 - val_acc: 0.8918\n",
      "Epoch 2/10\n",
      "132/132 [==============================] - ETA: 0s - loss: 0.3770 - acc: 0.8645INFO:tensorflow:Assets written to: model2-002.model/assets\n",
      "132/132 [==============================] - 97s 734ms/step - loss: 0.3770 - acc: 0.8645 - val_loss: 0.3135 - val_acc: 0.8505\n",
      "Epoch 3/10\n",
      "132/132 [==============================] - ETA: 0s - loss: 0.3320 - acc: 0.8691INFO:tensorflow:Assets written to: model2-003.model/assets\n",
      "132/132 [==============================] - 88s 668ms/step - loss: 0.3320 - acc: 0.8691 - val_loss: 0.2260 - val_acc: 0.8814\n",
      "Epoch 4/10\n",
      "132/132 [==============================] - 89s 670ms/step - loss: 0.2544 - acc: 0.8973 - val_loss: 0.2673 - val_acc: 0.8660\n",
      "Epoch 5/10\n",
      "132/132 [==============================] - ETA: 0s - loss: 0.2346 - acc: 0.9178INFO:tensorflow:Assets written to: model2-005.model/assets\n",
      "132/132 [==============================] - 89s 674ms/step - loss: 0.2346 - acc: 0.9178 - val_loss: 0.0899 - val_acc: 0.9536\n",
      "Epoch 6/10\n",
      "132/132 [==============================] - 88s 665ms/step - loss: 0.2141 - acc: 0.9186 - val_loss: 0.1785 - val_acc: 0.9021\n",
      "Epoch 7/10\n",
      "132/132 [==============================] - ETA: 0s - loss: 0.1941 - acc: 0.9224INFO:tensorflow:Assets written to: model2-007.model/assets\n",
      "132/132 [==============================] - 90s 679ms/step - loss: 0.1941 - acc: 0.9224 - val_loss: 0.0786 - val_acc: 0.9639\n",
      "Epoch 8/10\n",
      "132/132 [==============================] - ETA: 0s - loss: 0.1667 - acc: 0.9330INFO:tensorflow:Assets written to: model2-008.model/assets\n",
      "132/132 [==============================] - 90s 684ms/step - loss: 0.1667 - acc: 0.9330 - val_loss: 0.0359 - val_acc: 0.9845\n",
      "Epoch 9/10\n",
      "132/132 [==============================] - 145s 1s/step - loss: 0.1744 - acc: 0.9346 - val_loss: 0.1629 - val_acc: 0.8918\n",
      "Epoch 10/10\n",
      "132/132 [==============================] - 89s 672ms/step - loss: 0.1718 - acc: 0.9429 - val_loss: 0.0795 - val_acc: 0.9691\n"
     ]
    }
   ],
   "source": [
    "history = model.fit(train_generator,\n",
    "                              epochs=10,\n",
    "                              validation_data=validation_generator,\n",
    "                              callbacks=[checkpoint])"
   ]
  },
  {
   "cell_type": "code",
   "execution_count": 20,
   "id": "574a0ff1",
   "metadata": {},
   "outputs": [
    {
     "data": {
      "text/plain": [
       "['loss', 'acc']"
      ]
     },
     "execution_count": 20,
     "metadata": {},
     "output_type": "execute_result"
    }
   ],
   "source": [
    "model.metrics_names\n"
   ]
  },
  {
   "cell_type": "code",
   "execution_count": 22,
   "id": "cff214c4",
   "metadata": {},
   "outputs": [],
   "source": [
    "acc = history.history['acc']\n",
    "val_acc = history.history['val_acc']"
   ]
  },
  {
   "cell_type": "code",
   "execution_count": 23,
   "id": "2ba5453d",
   "metadata": {},
   "outputs": [
    {
     "data": {
      "image/png": "[encoded data removed]",
      "text/plain": [
       "<Figure size 432x288 with 2 Axes>"
      ]
     },
     "metadata": {
      "needs_background": "light"
     },
     "output_type": "display_data"
    }
   ],
   "source": [
    "# summarize history for accuracy\n",
    "\n",
    "plt.subplot(211)\n",
    "plt.plot(history.history['acc'])\n",
    "plt.plot(history.history['val_acc'])\n",
    "plt.title('Model Accuracy')\n",
    "plt.ylabel('Accuracy')\n",
    "plt.xlabel('Epoch')\n",
    "plt.legend(['Training', 'Validation'], loc='lower right')\n",
    "\n",
    "# summarize history for loss\n",
    "\n",
    "plt.subplot(212)\n",
    "plt.plot(history.history['loss'])\n",
    "plt.plot(history.history['val_loss'])\n",
    "plt.title('Model Loss')\n",
    "plt.ylabel('Loss')\n",
    "plt.xlabel('Epoch')\n",
    "plt.legend(['Training', 'Validation'], loc='upper right')\n",
    "\n",
    "plt.tight_layout()\n",
    "\n",
    "plt.show()"
   ]
  },
  {
   "cell_type": "code",
   "execution_count": 37,
   "id": "309855bf",
   "metadata": {},
   "outputs": [],
   "source": [
    "import os\n",
    "path = '/Users/ounadiikram/Documents'\n",
    "\n",
    "model.save(os.path.join(path,'model-010.h5'))\n"
   ]
  },
  {
   "cell_type": "code",
   "execution_count": null,
   "id": "bb62ba5b",
   "metadata": {},
   "outputs": [],
   "source": [
    "import cv2\n",
    "import numpy as np\n",
    "from keras.models import load_model\n",
    "model=load_model(\"/Users/ounadiikram/Documents/model-010.h5\")\n",
    "\n",
    "results={0:'without mask',1:'mask'}\n",
    "GR_dict={0:(0,0,255),1:(0,255,0)}\n",
    "\n",
    "rect_size = 4\n",
    "cap = cv2.VideoCapture(0) \n",
    "\n",
    "\n",
    "haarcascade = cv2.CascadeClassifier('haarcascade_frontalface_default.xml')\n",
    "\n",
    "while True:\n",
    "    (rval, im) = cap.read()\n",
    "    im=cv2.flip(im,1,1) \n",
    "\n",
    "    \n",
    "    rerect_size = cv2.resize(im, (im.shape[1] // rect_size, im.shape[0] // rect_size))\n",
    "    faces = haarcascade.detectMultiScale(rerect_size)\n",
    "    for f in faces:\n",
    "        (x, y, w, h) = [v * rect_size for v in f] \n",
    "        \n",
    "        face_img = im[y:y+h, x:x+w]\n",
    "        rerect_sized=cv2.resize(face_img,(150,150))\n",
    "        normalized=rerect_sized/255.0\n",
    "        reshaped=np.reshape(normalized,(1,150,150,3))\n",
    "        reshaped = np.vstack([reshaped])\n",
    "        result=model.predict(reshaped)\n",
    "\n",
    "        \n",
    "        label=np.argmax(result,axis=1)[0]\n",
    "      \n",
    "        cv2.rectangle(im,(x,y),(x+w,y+h),GR_dict[label],2)\n",
    "        cv2.rectangle(im,(x,y-40),(x+w,y),GR_dict[label],-1)\n",
    "        cv2.putText(im, results[label], (x, y-10),cv2.FONT_HERSHEY_SIMPLEX,0.8,(255,255,255),2)\n",
    "\n",
    "    cv2.imshow('LIVE',   im)\n",
    "    key = cv2.waitKey(10)\n",
    "    \n",
    "    if key == 27: \n",
    "        break\n",
    "\n",
    "cap.release()\n",
    "\n",
    "cv2.destroyAllWindows()"
   ]
  },
  {
   "cell_type": "code",
   "execution_count": 10,
   "id": "360d8293",
   "metadata": {},
   "outputs": [
    {
     "name": "stdout",
     "output_type": "stream",
     "text": [
      "./train/without_mask/indian-ethnicity-cheerful-confident-studio-260nw-552325924.jpg\n"
     ]
    }
   ],
   "source": [
    "import PIL\n",
    "from PIL import UnidentifiedImageError\n",
    "import glob\n",
    "\n",
    "imgs_ = glob.glob(\"./train/*/*.jpg\")\n",
    "\n",
    "for img in imgs_:\n",
    "    try:\n",
    "        img = PIL.Image.open(img)\n",
    "    except PIL.UnidentifiedImageError:\n",
    "        print(img)"
   ]
  },
  {
   "cell_type": "code",
   "execution_count": null,
   "id": "525819e2",
   "metadata": {},
   "outputs": [],
   "source": []
  }
 ],
 "metadata": {
  "kernelspec": {
   "display_name": "Python 3",
   "language": "python",
   "name": "python3"
  },
  "language_info": {
   "codemirror_mode": {
    "name": "ipython",
    "version": 3
   },
   "file_extension": ".py",
   "mimetype": "text/x-python",
   "name": "python",
   "nbconvert_exporter": "python",
   "pygments_lexer": "ipython3",
   "version": "3.8.8"
  }
 },
 "nbformat": 4,
 "nbformat_minor": 5
}
